{
 "cells": [
  {
   "cell_type": "code",
   "execution_count": 35,
   "id": "308d014b-88a5-4a4b-9887-235f628fcf08",
   "metadata": {},
   "outputs": [],
   "source": [
    "from datasets import load_dataset, concatenate_datasets"
   ]
  },
  {
   "cell_type": "code",
   "execution_count": 2,
   "id": "98e6f8fe-8e84-4e5e-bd89-1dff299310a0",
   "metadata": {},
   "outputs": [],
   "source": [
    "cc_news = load_dataset('csv',data_files = \"cc_news_ds.csv\")"
   ]
  },
  {
   "cell_type": "code",
   "execution_count": 3,
   "id": "7514b85d-ce9f-4ddd-b893-d6957b3fc9f2",
   "metadata": {},
   "outputs": [
    {
     "data": {
      "application/vnd.jupyter.widget-view+json": {
       "model_id": "287cc7ed160846bb801e863b779ef804",
       "version_major": 2,
       "version_minor": 0
      },
      "text/plain": [
       "Loading dataset shards:   0%|          | 0/74 [00:00<?, ?it/s]"
      ]
     },
     "metadata": {},
     "output_type": "display_data"
    }
   ],
   "source": [
    "openweb = load_dataset('csv', data_files='openwebtext.csv')"
   ]
  },
  {
   "cell_type": "code",
   "execution_count": 13,
   "id": "d063ee7f-9b1a-4ec4-8f2c-9b739fc1e3bc",
   "metadata": {},
   "outputs": [
    {
     "data": {
      "application/vnd.jupyter.widget-view+json": {
       "model_id": "aedd32cd0da6498d81596b8aaeb9da46",
       "version_major": 2,
       "version_minor": 0
      },
      "text/plain": [
       "Generating train split: 0 examples [00:00, ? examples/s]"
      ]
     },
     "metadata": {},
     "output_type": "display_data"
    },
    {
     "data": {
      "application/vnd.jupyter.widget-view+json": {
       "model_id": "e1cc5b9760a74ad69dc4e443e742e169",
       "version_major": 2,
       "version_minor": 0
      },
      "text/plain": [
       "Loading dataset shards:   0%|          | 0/39 [00:00<?, ?it/s]"
      ]
     },
     "metadata": {},
     "output_type": "display_data"
    }
   ],
   "source": [
    "wiki_ds = load_dataset('csv',data_files = \"wiki_ds.csv\")"
   ]
  },
  {
   "cell_type": "code",
   "execution_count": 9,
   "id": "ed61a137-cec5-4329-b022-df5e6131d5fb",
   "metadata": {},
   "outputs": [
    {
     "data": {
      "text/plain": [
       "DatasetDict({\n",
       "    train: Dataset({\n",
       "        features: ['title', 'text', 'domain', 'date', 'description', 'url', 'image_url'],\n",
       "        num_rows: 70824\n",
       "    })\n",
       "})"
      ]
     },
     "execution_count": 9,
     "metadata": {},
     "output_type": "execute_result"
    }
   ],
   "source": [
    "cc_news"
   ]
  },
  {
   "cell_type": "code",
   "execution_count": 11,
   "id": "b58e7ab3-954e-4ba3-8927-fac7cfdbff5f",
   "metadata": {},
   "outputs": [
    {
     "data": {
      "text/plain": [
       "DatasetDict({\n",
       "    train: Dataset({\n",
       "        features: ['text'],\n",
       "        num_rows: 8013769\n",
       "    })\n",
       "})"
      ]
     },
     "execution_count": 11,
     "metadata": {},
     "output_type": "execute_result"
    }
   ],
   "source": [
    "openweb"
   ]
  },
  {
   "cell_type": "code",
   "execution_count": 15,
   "id": "f9176aeb-c863-4f42-bfff-66c8211f1f0b",
   "metadata": {},
   "outputs": [
    {
     "data": {
      "text/plain": [
       "DatasetDict({\n",
       "    train: Dataset({\n",
       "        features: ['id', 'url', 'title', 'text'],\n",
       "        num_rows: 6458670\n",
       "    })\n",
       "})"
      ]
     },
     "execution_count": 15,
     "metadata": {},
     "output_type": "execute_result"
    }
   ],
   "source": [
    "wiki_ds"
   ]
  },
  {
   "cell_type": "code",
   "execution_count": null,
   "id": "822db43f-11eb-47bb-be3b-a709831b27ff",
   "metadata": {},
   "outputs": [],
   "source": []
  },
  {
   "cell_type": "code",
   "execution_count": 17,
   "id": "9ed6510a-adf2-43e9-89a0-212d7ebb2508",
   "metadata": {},
   "outputs": [],
   "source": [
    "def preprocess(ex):\n",
    "    text = ex.get(\"text\") or \"\"\n",
    "    if \"title\" in ex or \"description\" in ex:  # CC-News\n",
    "        text = \" \".join(filter(None, [ex.get(\"title\"), ex.get(\"description\"), ex.get(\"text\")]))\n",
    "    return {\"text\": text.strip()}\n"
   ]
  },
  {
   "cell_type": "code",
   "execution_count": 25,
   "id": "9687a1d6-76c9-408c-85ef-01a75d98e882",
   "metadata": {},
   "outputs": [
    {
     "data": {
      "text/plain": [
       "['id', 'url', 'title']"
      ]
     },
     "execution_count": 25,
     "metadata": {},
     "output_type": "execute_result"
    }
   ],
   "source": [
    "[c for c in wiki_ds['train'].column_names if c != \"text\"]"
   ]
  },
  {
   "cell_type": "code",
   "execution_count": 27,
   "id": "d40860c6-c9d2-4142-a322-1b865a50432f",
   "metadata": {},
   "outputs": [
    {
     "data": {
      "application/vnd.jupyter.widget-view+json": {
       "model_id": "4e9c02d673cd407b9bc1488b985bb13c",
       "version_major": 2,
       "version_minor": 0
      },
      "text/plain": [
       "Map:   0%|          | 0/6458670 [00:00<?, ? examples/s]"
      ]
     },
     "metadata": {},
     "output_type": "display_data"
    },
    {
     "data": {
      "application/vnd.jupyter.widget-view+json": {
       "model_id": "bee19f3d836d4e3fb43a470954157267",
       "version_major": 2,
       "version_minor": 0
      },
      "text/plain": [
       "Map:   0%|          | 0/8013769 [00:00<?, ? examples/s]"
      ]
     },
     "metadata": {},
     "output_type": "display_data"
    },
    {
     "data": {
      "application/vnd.jupyter.widget-view+json": {
       "model_id": "fef9d430c6af4b6e854b64e5ba494430",
       "version_major": 2,
       "version_minor": 0
      },
      "text/plain": [
       "Map:   0%|          | 0/70824 [00:00<?, ? examples/s]"
      ]
     },
     "metadata": {},
     "output_type": "display_data"
    }
   ],
   "source": [
    "wiki_ds = wiki_ds['train'].map(preprocess, remove_columns=[c for c in wiki_ds['train'].column_names if c != \"text\"])\n",
    "openweb = openweb['train'].map(preprocess, remove_columns=[c for c in openweb['train'].column_names if c != \"text\"])\n",
    "cc_news = cc_news['train'].map(preprocess, remove_columns=[c for c in cc_news['train'].column_names if c != \"text\"])\n"
   ]
  },
  {
   "cell_type": "code",
   "execution_count": 29,
   "id": "e2d63393-3b27-4796-be9f-3f548aba49c5",
   "metadata": {},
   "outputs": [
    {
     "data": {
      "text/plain": [
       "Dataset({\n",
       "    features: ['text'],\n",
       "    num_rows: 6458670\n",
       "})"
      ]
     },
     "execution_count": 29,
     "metadata": {},
     "output_type": "execute_result"
    }
   ],
   "source": [
    "wiki_ds"
   ]
  },
  {
   "cell_type": "code",
   "execution_count": 37,
   "id": "339272c5-272d-4e8c-b310-0dd91796f159",
   "metadata": {},
   "outputs": [],
   "source": [
    "train_ds = concatenate_datasets([wiki_ds, openweb, cc_news])\n"
   ]
  },
  {
   "cell_type": "code",
   "execution_count": 39,
   "id": "0b162dee-a91d-4081-96b9-2334b857a9cf",
   "metadata": {},
   "outputs": [
    {
     "data": {
      "application/vnd.jupyter.widget-view+json": {
       "model_id": "3cc29b522d964378a3b54854118861e5",
       "version_major": 2,
       "version_minor": 0
      },
      "text/plain": [
       "Filter:   0%|          | 0/14543263 [00:00<?, ? examples/s]"
      ]
     },
     "metadata": {},
     "output_type": "display_data"
    }
   ],
   "source": [
    "train_ds = train_ds.filter(lambda x: len(x[\"text\"]) > 100)"
   ]
  },
  {
   "cell_type": "code",
   "execution_count": 41,
   "id": "a5d1bfa0-97c8-4f18-9732-ef92dda297cb",
   "metadata": {},
   "outputs": [
    {
     "data": {
      "text/plain": [
       "Dataset({\n",
       "    features: ['text'],\n",
       "    num_rows: 14526347\n",
       "})"
      ]
     },
     "execution_count": 41,
     "metadata": {},
     "output_type": "execute_result"
    }
   ],
   "source": [
    "train_ds"
   ]
  },
  {
   "cell_type": "code",
   "execution_count": 43,
   "id": "ec8e44e3-9187-4867-8209-107574749680",
   "metadata": {},
   "outputs": [
    {
     "data": {
      "application/vnd.jupyter.widget-view+json": {
       "model_id": "c6f924c559aa42f19e1b958376dd81df",
       "version_major": 2,
       "version_minor": 0
      },
      "text/plain": [
       "Creating CSV from Arrow format:   0%|          | 0/14527 [00:00<?, ?ba/s]"
      ]
     },
     "metadata": {},
     "output_type": "display_data"
    },
    {
     "data": {
      "text/plain": [
       "59830529395"
      ]
     },
     "execution_count": 43,
     "metadata": {},
     "output_type": "execute_result"
    }
   ],
   "source": [
    "train_ds.to_csv(\"training_data.csv\")"
   ]
  },
  {
   "cell_type": "code",
   "execution_count": 45,
   "id": "21a2fa94-d84f-4552-813c-9f07b06ba636",
   "metadata": {},
   "outputs": [
    {
     "data": {
      "application/vnd.jupyter.widget-view+json": {
       "model_id": "9ac10a0d0193400f956b60696f4349ce",
       "version_major": 2,
       "version_minor": 0
      },
      "text/plain": [
       "Generating train split: 0 examples [00:00, ? examples/s]"
      ]
     },
     "metadata": {},
     "output_type": "display_data"
    },
    {
     "data": {
      "application/vnd.jupyter.widget-view+json": {
       "model_id": "b27e517f824a4abda8be798b30eb623d",
       "version_major": 2,
       "version_minor": 0
      },
      "text/plain": [
       "Loading dataset shards:   0%|          | 0/112 [00:00<?, ?it/s]"
      ]
     },
     "metadata": {},
     "output_type": "display_data"
    }
   ],
   "source": [
    "train_data = load_dataset('csv',data_files = \"training_data.csv\")"
   ]
  },
  {
   "cell_type": "code",
   "execution_count": 47,
   "id": "4c7d9bdd-4642-4870-9aa7-fdb2e119d094",
   "metadata": {},
   "outputs": [
    {
     "data": {
      "text/plain": [
       "DatasetDict({\n",
       "    train: Dataset({\n",
       "        features: ['text'],\n",
       "        num_rows: 14526347\n",
       "    })\n",
       "})"
      ]
     },
     "execution_count": 47,
     "metadata": {},
     "output_type": "execute_result"
    }
   ],
   "source": [
    "train_data"
   ]
  },
  {
   "cell_type": "code",
   "execution_count": 49,
   "id": "75655488-e34b-44ff-82e0-5cc2021159ec",
   "metadata": {},
   "outputs": [],
   "source": [
    "#working on smaller dataset\n",
    "\n",
    "import itertools\n",
    "import random\n",
    "\n",
    "# Shuffle and take first ~2 million articles\n",
    "small_wiki = itertools.islice(wiki_ds, 2_000_000)\n"
   ]
  },
  {
   "cell_type": "code",
   "execution_count": 53,
   "id": "1f06a380-1f32-4fe9-bf12-9e8a82c35fb6",
   "metadata": {},
   "outputs": [
    {
     "ename": "KeyboardInterrupt",
     "evalue": "",
     "output_type": "error",
     "traceback": [
      "\u001b[1;31m---------------------------------------------------------------------------\u001b[0m",
      "\u001b[1;31mKeyboardInterrupt\u001b[0m                         Traceback (most recent call last)",
      "Cell \u001b[1;32mIn[53], line 1\u001b[0m\n\u001b[1;32m----> 1\u001b[0m small_list \u001b[38;5;241m=\u001b[39m \u001b[38;5;28mlist\u001b[39m(small_wiki)\n",
      "File \u001b[1;32m~\\anaconda3\\Lib\\site-packages\\datasets\\arrow_dataset.py:2384\u001b[0m, in \u001b[0;36mDataset.__iter__\u001b[1;34m(self)\u001b[0m\n\u001b[0;32m   2382\u001b[0m formatter \u001b[38;5;241m=\u001b[39m get_formatter(\u001b[38;5;28mself\u001b[39m\u001b[38;5;241m.\u001b[39m_format_type, features\u001b[38;5;241m=\u001b[39m\u001b[38;5;28mself\u001b[39m\u001b[38;5;241m.\u001b[39m_info\u001b[38;5;241m.\u001b[39mfeatures, \u001b[38;5;241m*\u001b[39m\u001b[38;5;241m*\u001b[39mformat_kwargs)\n\u001b[0;32m   2383\u001b[0m batch_size \u001b[38;5;241m=\u001b[39m config\u001b[38;5;241m.\u001b[39mARROW_READER_BATCH_SIZE_IN_DATASET_ITER\n\u001b[1;32m-> 2384\u001b[0m \u001b[38;5;28;01mfor\u001b[39;00m pa_subtable \u001b[38;5;129;01min\u001b[39;00m table_iter(\u001b[38;5;28mself\u001b[39m\u001b[38;5;241m.\u001b[39mdata, batch_size\u001b[38;5;241m=\u001b[39mbatch_size):\n\u001b[0;32m   2385\u001b[0m     \u001b[38;5;28;01mfor\u001b[39;00m i \u001b[38;5;129;01min\u001b[39;00m \u001b[38;5;28mrange\u001b[39m(pa_subtable\u001b[38;5;241m.\u001b[39mnum_rows):\n\u001b[0;32m   2386\u001b[0m         pa_subtable_ex \u001b[38;5;241m=\u001b[39m pa_subtable\u001b[38;5;241m.\u001b[39mslice(i, \u001b[38;5;241m1\u001b[39m)\n",
      "File \u001b[1;32m~\\anaconda3\\Lib\\site-packages\\datasets\\table.py:2403\u001b[0m, in \u001b[0;36mtable_iter\u001b[1;34m(table, batch_size, drop_last_batch)\u001b[0m\n\u001b[0;32m   2401\u001b[0m \u001b[38;5;28;01melif\u001b[39;00m chunks_buffer_size \u001b[38;5;241m+\u001b[39m \u001b[38;5;28mlen\u001b[39m(chunk) \u001b[38;5;241m==\u001b[39m batch_size:\n\u001b[0;32m   2402\u001b[0m     chunks_buffer\u001b[38;5;241m.\u001b[39mappend(chunk)\n\u001b[1;32m-> 2403\u001b[0m     \u001b[38;5;28;01myield\u001b[39;00m pa\u001b[38;5;241m.\u001b[39mTable\u001b[38;5;241m.\u001b[39mfrom_batches(chunks_buffer)\n\u001b[0;32m   2404\u001b[0m     chunks_buffer \u001b[38;5;241m=\u001b[39m []\n\u001b[0;32m   2405\u001b[0m     chunks_buffer_size \u001b[38;5;241m=\u001b[39m \u001b[38;5;241m0\u001b[39m\n",
      "\u001b[1;31mKeyboardInterrupt\u001b[0m: "
     ]
    }
   ],
   "source": [
    "small_list = list(small_wiki)"
   ]
  },
  {
   "cell_type": "code",
   "execution_count": 55,
   "id": "285a89f3-be6f-4df7-a12a-9f9183b2c69b",
   "metadata": {},
   "outputs": [],
   "source": [
    "wiki_small = wiki_ds.shuffle(seed=42).select(range(2_000_000))"
   ]
  },
  {
   "cell_type": "code",
   "execution_count": 59,
   "id": "dbe055f9-618b-4353-bee5-48976a94a1b4",
   "metadata": {},
   "outputs": [
    {
     "data": {
      "application/vnd.jupyter.widget-view+json": {
       "model_id": "48ef91b60d16421591449d47c2d2abb0",
       "version_major": 2,
       "version_minor": 0
      },
      "text/plain": [
       "Creating CSV from Arrow format:   0%|          | 0/2000 [00:00<?, ?ba/s]"
      ]
     },
     "metadata": {},
     "output_type": "display_data"
    },
    {
     "data": {
      "text/plain": [
       "6141991769"
      ]
     },
     "execution_count": 59,
     "metadata": {},
     "output_type": "execute_result"
    }
   ],
   "source": [
    "wiki_small.to_csv(\"wiki_small.csv\")"
   ]
  },
  {
   "cell_type": "code",
   "execution_count": 61,
   "id": "915134dd-479b-42b1-b5e0-adc38c3bf356",
   "metadata": {},
   "outputs": [
    {
     "data": {
      "text/plain": [
       "Dataset({\n",
       "    features: ['text'],\n",
       "    num_rows: 2000000\n",
       "})"
      ]
     },
     "execution_count": 61,
     "metadata": {},
     "output_type": "execute_result"
    }
   ],
   "source": [
    "wiki_small"
   ]
  },
  {
   "cell_type": "code",
   "execution_count": 63,
   "id": "38f2888d-6a71-4a52-b31b-1ee9efe7cb7f",
   "metadata": {},
   "outputs": [],
   "source": [
    "openweb_small = openweb.shuffle(seed=42).select(range(1_000_000))"
   ]
  },
  {
   "cell_type": "code",
   "execution_count": 65,
   "id": "9a7261a6-3056-4acd-8ddc-2627e8a9a0e1",
   "metadata": {},
   "outputs": [
    {
     "data": {
      "application/vnd.jupyter.widget-view+json": {
       "model_id": "d30903b866b440abb0e846e473ec5b5b",
       "version_major": 2,
       "version_minor": 0
      },
      "text/plain": [
       "Creating CSV from Arrow format:   0%|          | 0/1000 [00:00<?, ?ba/s]"
      ]
     },
     "metadata": {},
     "output_type": "display_data"
    },
    {
     "data": {
      "text/plain": [
       "4968974749"
      ]
     },
     "execution_count": 65,
     "metadata": {},
     "output_type": "execute_result"
    }
   ],
   "source": [
    "openweb_small.to_csv(\"openweb_small.csv\")"
   ]
  },
  {
   "cell_type": "code",
   "execution_count": 67,
   "id": "9ac14715-c441-4b87-bf13-68c4d3610129",
   "metadata": {},
   "outputs": [],
   "source": [
    "wiki_small_500k = wiki_ds.shuffle(seed=42).select(range(500_000))"
   ]
  },
  {
   "cell_type": "code",
   "execution_count": 69,
   "id": "8c4e8048-137e-4653-9c54-b34964f4c97d",
   "metadata": {},
   "outputs": [
    {
     "data": {
      "application/vnd.jupyter.widget-view+json": {
       "model_id": "d19e8b91fa0749a7ba7527f2c02bf692",
       "version_major": 2,
       "version_minor": 0
      },
      "text/plain": [
       "Creating CSV from Arrow format:   0%|          | 0/500 [00:00<?, ?ba/s]"
      ]
     },
     "metadata": {},
     "output_type": "display_data"
    },
    {
     "data": {
      "text/plain": [
       "1532991638"
      ]
     },
     "execution_count": 69,
     "metadata": {},
     "output_type": "execute_result"
    }
   ],
   "source": [
    "wiki_small_500k.to_csv(\"wiki_small_500k.csv\")"
   ]
  },
  {
   "cell_type": "code",
   "execution_count": 74,
   "id": "e942cfd6-98de-4119-82db-75426dc0786c",
   "metadata": {},
   "outputs": [
    {
     "data": {
      "text/plain": [
       "Dataset({\n",
       "    features: ['text'],\n",
       "    num_rows: 1000000\n",
       "})"
      ]
     },
     "execution_count": 74,
     "metadata": {},
     "output_type": "execute_result"
    }
   ],
   "source": [
    "openweb_small"
   ]
  },
  {
   "cell_type": "code",
   "execution_count": 72,
   "id": "51126baa-644c-4319-bdfc-3e98356cccba",
   "metadata": {},
   "outputs": [
    {
     "data": {
      "text/plain": [
       "Dataset({\n",
       "    features: ['text'],\n",
       "    num_rows: 500000\n",
       "})"
      ]
     },
     "execution_count": 72,
     "metadata": {},
     "output_type": "execute_result"
    }
   ],
   "source": [
    "wiki_small_500k"
   ]
  },
  {
   "cell_type": "code",
   "execution_count": 76,
   "id": "757714a8-61a8-4acc-ae23-e24c67c3c351",
   "metadata": {},
   "outputs": [
    {
     "data": {
      "text/plain": [
       "Dataset({\n",
       "    features: ['text'],\n",
       "    num_rows: 70824\n",
       "})"
      ]
     },
     "execution_count": 76,
     "metadata": {},
     "output_type": "execute_result"
    }
   ],
   "source": [
    "cc_news"
   ]
  },
  {
   "cell_type": "code",
   "execution_count": 78,
   "id": "23ec8547-dbfd-4461-a1b0-c5f9d6f4e08e",
   "metadata": {},
   "outputs": [],
   "source": [
    "train_ds_small = concatenate_datasets([wiki_small_500k, openweb_small, cc_news])\n"
   ]
  },
  {
   "cell_type": "code",
   "execution_count": 80,
   "id": "1b20e79a-8de5-4a99-bd6e-c89fe4328541",
   "metadata": {},
   "outputs": [
    {
     "data": {
      "application/vnd.jupyter.widget-view+json": {
       "model_id": "bfd0ae8bb5c84cbeb2d1159416451a00",
       "version_major": 2,
       "version_minor": 0
      },
      "text/plain": [
       "Creating CSV from Arrow format:   0%|          | 0/1571 [00:00<?, ?ba/s]"
      ]
     },
     "metadata": {},
     "output_type": "display_data"
    },
    {
     "data": {
      "text/plain": [
       "6677698228"
      ]
     },
     "execution_count": 80,
     "metadata": {},
     "output_type": "execute_result"
    }
   ],
   "source": [
    "train_ds_small.to_csv(\"train_ds_small.csv\")"
   ]
  },
  {
   "cell_type": "code",
   "execution_count": null,
   "id": "8c60dd7e-9aff-4e1c-9052-1d8eeef1895e",
   "metadata": {},
   "outputs": [],
   "source": []
  }
 ],
 "metadata": {
  "kernelspec": {
   "display_name": "Python [conda env:base] *",
   "language": "python",
   "name": "conda-base-py"
  },
  "language_info": {
   "codemirror_mode": {
    "name": "ipython",
    "version": 3
   },
   "file_extension": ".py",
   "mimetype": "text/x-python",
   "name": "python",
   "nbconvert_exporter": "python",
   "pygments_lexer": "ipython3",
   "version": "3.12.3"
  }
 },
 "nbformat": 4,
 "nbformat_minor": 5
}
